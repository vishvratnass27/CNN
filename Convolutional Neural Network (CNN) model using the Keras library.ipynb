{
 "cells": [
  {
   "cell_type": "markdown",
   "id": "0aef70ce",
   "metadata": {},
   "source": [
    "# Let's break down this deep learning code, which involves building a Convolutional Neural Network (CNN) model using the Keras library (a high-level neural networks API)."
   ]
  },
  {
   "cell_type": "markdown",
   "id": "22956cb2",
   "metadata": {},
   "source": [
    "Import Libraries:\n",
    "\n",
    "Convolution2D: This is used for adding convolution layers in the model.\n",
    "\n",
    "Sequential: A linear stack of layers that you can easily add to build your model."
   ]
  },
  {
   "cell_type": "code",
   "execution_count": null,
   "id": "3abbf43e",
   "metadata": {},
   "outputs": [],
   "source": [
    "from keras.layers import Convolution2D"
   ]
  },
  {
   "cell_type": "code",
   "execution_count": null,
   "id": "46db0a80",
   "metadata": {},
   "outputs": [],
   "source": [
    "from keras.models import Sequential"
   ]
  },
  {
   "cell_type": "markdown",
   "id": "04f54f60",
   "metadata": {},
   "source": [
    "Model Initialization:\n",
    "\n",
    "model = Sequential(): Creates a sequential model where each layer is stacked on top of the previous one."
   ]
  },
  {
   "cell_type": "code",
   "execution_count": null,
   "id": "a579f6e1",
   "metadata": {},
   "outputs": [],
   "source": [
    "model = Sequential()"
   ]
  },
  {
   "cell_type": "markdown",
   "id": "1e154650",
   "metadata": {},
   "source": [
    "Adding a Convolutional Layer:"
   ]
  },
  {
   "cell_type": "code",
   "execution_count": null,
   "id": "48a61846",
   "metadata": {},
   "outputs": [],
   "source": [
    "model.add(  \n",
    "    Convolution2D( \n",
    "        kernel_size=(7,7) , \n",
    "        filters=32, \n",
    "        activation='relu' ,\n",
    "        strides=(1,1),\n",
    "        input_shape=(100,100,3)\n",
    "        \n",
    "    )  \n",
    ")"
   ]
  },
  {
   "cell_type": "markdown",
   "id": "84a23c83",
   "metadata": {},
   "source": [
    "kernel_size=(7,7): This defines the filter size (7x7) that slides over the input image.\n",
    "\n",
    "filters=32: The number of filters (or feature detectors) used in the convolution. In this case, 32 filters are applied.\n",
    "\n",
    "activation='relu': ReLU (Rectified Linear Unit) activation is applied to introduce non-linearity.\n",
    "\n",
    "strides=(1,1): The number of pixels by which we shift the filter over the input image.\n",
    "\n",
    "input_shape=(100,100,3): This is the shape of the input image. Here, it's 100x100 pixels with 3 color channels (RGB)."
   ]
  },
  {
   "cell_type": "markdown",
   "id": "51ce9a5e",
   "metadata": {},
   "source": [
    "Model Configuration and Summary:\n",
    "\n",
    "model.get_config(): Retrieves the model configuration.\n",
    "\n",
    "model.summary(): Prints a summary of the model architecture, including the layer types, output shapes, and number of parameters."
   ]
  },
  {
   "cell_type": "code",
   "execution_count": null,
   "id": "617a87d8",
   "metadata": {},
   "outputs": [],
   "source": [
    "model.get_config()"
   ]
  },
  {
   "cell_type": "code",
   "execution_count": null,
   "id": "0fb80f8e",
   "metadata": {},
   "outputs": [],
   "source": [
    "model.summary()"
   ]
  },
  {
   "cell_type": "code",
   "execution_count": null,
   "id": "cb41574e",
   "metadata": {},
   "outputs": [],
   "source": [
    "from keras.layers import MaxPool2D"
   ]
  },
  {
   "cell_type": "markdown",
   "id": "92faf880",
   "metadata": {},
   "source": [
    "Adding a Max Pooling Layer:"
   ]
  },
  {
   "cell_type": "code",
   "execution_count": null,
   "id": "e467cd1a",
   "metadata": {},
   "outputs": [],
   "source": [
    "model.add(  MaxPool2D()  )"
   ]
  },
  {
   "cell_type": "markdown",
   "id": "867acce4",
   "metadata": {},
   "source": [
    "This layer performs down-sampling (reducing the size of the input) by taking the maximum value in a window of the feature map, which helps in reducing the spatial dimensions and computational load"
   ]
  },
  {
   "cell_type": "code",
   "execution_count": null,
   "id": "5157d2fc",
   "metadata": {},
   "outputs": [],
   "source": [
    "model.get_config()"
   ]
  },
  {
   "cell_type": "code",
   "execution_count": null,
   "id": "eeda6a4e",
   "metadata": {},
   "outputs": [],
   "source": [
    "from keras.layers import Flatten"
   ]
  },
  {
   "cell_type": "markdown",
   "id": "d7c82122",
   "metadata": {},
   "source": [
    "Flatten Layer:"
   ]
  },
  {
   "cell_type": "code",
   "execution_count": null,
   "id": "87f16d56",
   "metadata": {},
   "outputs": [],
   "source": [
    "model.add( Flatten()\n",
    "         )"
   ]
  },
  {
   "cell_type": "markdown",
   "id": "260e9913",
   "metadata": {},
   "source": [
    "This layer flattens the 2D feature maps into a 1D vector, preparing the data for the fully connected layers (Dense layers)."
   ]
  },
  {
   "cell_type": "code",
   "execution_count": null,
   "id": "45edf6e1",
   "metadata": {},
   "outputs": [],
   "source": [
    "from keras.layers import Dense"
   ]
  },
  {
   "cell_type": "markdown",
   "id": "78047682",
   "metadata": {},
   "source": [
    "Dense Layers (Fully Connected Layers):"
   ]
  },
  {
   "cell_type": "code",
   "execution_count": null,
   "id": "bf80bb64",
   "metadata": {},
   "outputs": [],
   "source": [
    "model.add(  Dense(units=20, activation='relu')  )"
   ]
  },
  {
   "cell_type": "code",
   "execution_count": null,
   "id": "f1b18091",
   "metadata": {},
   "outputs": [],
   "source": [
    "model.add(  Dense(units=10, activation='relu')  )"
   ]
  },
  {
   "cell_type": "code",
   "execution_count": null,
   "id": "7e42f95c",
   "metadata": {},
   "outputs": [],
   "source": [
    "model.add(  Dense(units=1, activation='sigmoid')  )"
   ]
  },
  {
   "cell_type": "markdown",
   "id": "8814f332",
   "metadata": {},
   "source": [
    "units=20 and units=10: These are fully connected layers with 20 and 10 neurons, respectively, using ReLU activation.\n",
    "    \n",
    "The final layer has units=1 with sigmoid activation, typically used for binary classification tasks, where the output will be a probability (0 or 1)."
   ]
  },
  {
   "cell_type": "code",
   "execution_count": null,
   "id": "c0ccbaab",
   "metadata": {},
   "outputs": [],
   "source": [
    "model.summary()"
   ]
  },
  {
   "cell_type": "markdown",
   "id": "8b8d9dd1",
   "metadata": {},
   "source": [
    "The model.summary() at the end will give a complete overview of the layers, their parameters, and the overall structure of the neural network."
   ]
  },
  {
   "cell_type": "markdown",
   "id": "4315e27e",
   "metadata": {},
   "source": [
    "This code defines a Convolutional Neural Network (CNN) using Keras. It starts by applying convolutional layers for feature extraction, followed by pooling to reduce dimensionality. The features are then flattened and passed through fully connected (Dense) layers. The final layer uses a sigmoid activation for binary classification."
   ]
  },
  {
   "cell_type": "code",
   "execution_count": null,
   "id": "0d2f6a81",
   "metadata": {},
   "outputs": [],
   "source": []
  }
 ],
 "metadata": {
  "kernelspec": {
   "display_name": "Python 3 (ipykernel)",
   "language": "python",
   "name": "python3"
  },
  "language_info": {
   "codemirror_mode": {
    "name": "ipython",
    "version": 3
   },
   "file_extension": ".py",
   "mimetype": "text/x-python",
   "name": "python",
   "nbconvert_exporter": "python",
   "pygments_lexer": "ipython3",
   "version": "3.11.5"
  }
 },
 "nbformat": 4,
 "nbformat_minor": 5
}
